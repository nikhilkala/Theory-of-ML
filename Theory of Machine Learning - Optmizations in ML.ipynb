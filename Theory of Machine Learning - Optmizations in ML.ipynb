{
 "cells": [
  {
   "cell_type": "markdown",
   "id": "7e7fa339",
   "metadata": {},
   "source": [
    "### Assignment 2"
   ]
  },
  {
   "cell_type": "markdown",
   "id": "79513dd7",
   "metadata": {},
   "source": [
    "## Gradient Descent with cost_function customized for Problem 1\n",
    "The goal is to find w ∈Rd so as to minimize the objective:\n",
    "L(w) = ∑(xi,yi,w), where `(xi,yi,w) := log(1 + e−yi〈xi,w〉)."
   ]
  },
  {
   "cell_type": "code",
   "execution_count": 240,
   "id": "ff3ed84d",
   "metadata": {},
   "outputs": [],
   "source": [
    "import numpy as np\n",
    "import matplotlib.pyplot as plt\n",
    "\n",
    "def cost_function(x,y,w):\n",
    "    cost = np.sum(np.log(1 + np.exp(-1*x*y*w)))\n",
    "    return cost\n",
    " \n",
    "def gradient_descent(x, y, iterations = 100, learning_rate = 0.0001,\n",
    "                     print_iterations=False):\n",
    "     \n",
    "    current_weight = 200\n",
    "    iterations = iterations\n",
    "    learning_rate = learning_rate\n",
    "    costs = []\n",
    "    weights = []\n",
    "     \n",
    "    for i in range(iterations):\n",
    "        current_cost = cost_function(x, y, current_weight)\n",
    "        costs.append(current_cost)\n",
    "        weights.append(current_weight)\n",
    "        weight_derivative = np.sum((-1 * x * y) * np.exp(-1 * x * y * current_weight) \n",
    "                                   /(1 + np.exp(-1 * x * y * current_weight)) )\n",
    "        current_weight = current_weight - (learning_rate * weight_derivative)\n",
    "        if (print_iterations):\n",
    "            print(f\"Iteration {i+1}: Cost {current_cost}, Weight \\\n",
    "            {current_weight},\")\n",
    "     \n",
    "    plt.figure(figsize = (8,6))\n",
    "    plt.plot(weights, costs)\n",
    "    plt.scatter(weights, costs, marker='o', color='red')\n",
    "    plt.title(\"Cost vs Weights\")\n",
    "    plt.ylabel(\"Cost\")\n",
    "    plt.xlabel(\"Weight\")\n",
    "    plt.show()\n",
    "#     plt.savefig(\"Costweight.png\")\n",
    "     \n",
    "    return current_weight\n",
    " "
   ]
  },
  {
   "cell_type": "markdown",
   "id": "20b948d8",
   "metadata": {},
   "source": [
    "### 1.C - Well separable\n",
    "#### Note: set print_iterations to True to see the logs for all iterations"
   ]
  },
  {
   "cell_type": "code",
   "execution_count": 241,
   "id": "d17d0e0d",
   "metadata": {},
   "outputs": [
    {
     "data": {
      "image/png": "[encoded data removed]",
      "text/plain": [
       "<Figure size 576x432 with 1 Axes>"
      ]
     },
     "metadata": {
      "needs_background": "light"
     },
     "output_type": "display_data"
    },
    {
     "name": "stdout",
     "output_type": "stream",
     "text": [
      "The Final weight is: 200.0\n"
     ]
    }
   ],
   "source": [
    "import math\n",
    "x = [i for i in range(-50,51) ]\n",
    "x.remove(0)\n",
    "x = np.array(x)\n",
    "y = [math.copysign(1,i) for i in range(-50,50)]\n",
    "y = np.array(y)\n",
    "final_weight = gradient_descent(x,y,iterations = 100,learning_rate=0.00001, print_iterations = False)\n",
    "print(\"The Final weight is:\",final_weight)"
   ]
  },
  {
   "cell_type": "markdown",
   "id": "f9e2dd9d",
   "metadata": {},
   "source": [
    "### 1.D - Well separable with 10% corruption\n",
    "#### Note: set print_iterations to True to see the logs for all iterations"
   ]
  },
  {
   "cell_type": "code",
   "execution_count": 242,
   "id": "85ba6280",
   "metadata": {},
   "outputs": [
    {
     "name": "stdout",
     "output_type": "stream",
     "text": [
      "Iteration 1: Cost inf, Weight             nan,\n",
      "Iteration 2: Cost nan, Weight             nan,\n",
      "Iteration 3: Cost nan, Weight             nan,\n",
      "Iteration 4: Cost nan, Weight             nan,\n",
      "Iteration 5: Cost nan, Weight             nan,\n",
      "Iteration 6: Cost nan, Weight             nan,\n",
      "Iteration 7: Cost nan, Weight             nan,\n",
      "Iteration 8: Cost nan, Weight             nan,\n",
      "Iteration 9: Cost nan, Weight             nan,\n",
      "Iteration 10: Cost nan, Weight             nan,\n",
      "Iteration 11: Cost nan, Weight             nan,\n",
      "Iteration 12: Cost nan, Weight             nan,\n",
      "Iteration 13: Cost nan, Weight             nan,\n",
      "Iteration 14: Cost nan, Weight             nan,\n",
      "Iteration 15: Cost nan, Weight             nan,\n",
      "Iteration 16: Cost nan, Weight             nan,\n",
      "Iteration 17: Cost nan, Weight             nan,\n",
      "Iteration 18: Cost nan, Weight             nan,\n",
      "Iteration 19: Cost nan, Weight             nan,\n",
      "Iteration 20: Cost nan, Weight             nan,\n",
      "Iteration 21: Cost nan, Weight             nan,\n",
      "Iteration 22: Cost nan, Weight             nan,\n",
      "Iteration 23: Cost nan, Weight             nan,\n",
      "Iteration 24: Cost nan, Weight             nan,\n",
      "Iteration 25: Cost nan, Weight             nan,\n",
      "Iteration 26: Cost nan, Weight             nan,\n",
      "Iteration 27: Cost nan, Weight             nan,\n",
      "Iteration 28: Cost nan, Weight             nan,\n",
      "Iteration 29: Cost nan, Weight             nan,\n",
      "Iteration 30: Cost nan, Weight             nan,\n",
      "Iteration 31: Cost nan, Weight             nan,\n",
      "Iteration 32: Cost nan, Weight             nan,\n",
      "Iteration 33: Cost nan, Weight             nan,\n",
      "Iteration 34: Cost nan, Weight             nan,\n",
      "Iteration 35: Cost nan, Weight             nan,\n",
      "Iteration 36: Cost nan, Weight             nan,\n",
      "Iteration 37: Cost nan, Weight             nan,\n",
      "Iteration 38: Cost nan, Weight             nan,\n",
      "Iteration 39: Cost nan, Weight             nan,\n",
      "Iteration 40: Cost nan, Weight             nan,\n",
      "Iteration 41: Cost nan, Weight             nan,\n",
      "Iteration 42: Cost nan, Weight             nan,\n",
      "Iteration 43: Cost nan, Weight             nan,\n",
      "Iteration 44: Cost nan, Weight             nan,\n",
      "Iteration 45: Cost nan, Weight             nan,\n",
      "Iteration 46: Cost nan, Weight             nan,\n",
      "Iteration 47: Cost nan, Weight             nan,\n",
      "Iteration 48: Cost nan, Weight             nan,\n",
      "Iteration 49: Cost nan, Weight             nan,\n",
      "Iteration 50: Cost nan, Weight             nan,\n",
      "Iteration 51: Cost nan, Weight             nan,\n",
      "Iteration 52: Cost nan, Weight             nan,\n",
      "Iteration 53: Cost nan, Weight             nan,\n",
      "Iteration 54: Cost nan, Weight             nan,\n",
      "Iteration 55: Cost nan, Weight             nan,\n",
      "Iteration 56: Cost nan, Weight             nan,\n",
      "Iteration 57: Cost nan, Weight             nan,\n",
      "Iteration 58: Cost nan, Weight             nan,\n",
      "Iteration 59: Cost nan, Weight             nan,\n",
      "Iteration 60: Cost nan, Weight             nan,\n",
      "Iteration 61: Cost nan, Weight             nan,\n",
      "Iteration 62: Cost nan, Weight             nan,\n",
      "Iteration 63: Cost nan, Weight             nan,\n",
      "Iteration 64: Cost nan, Weight             nan,\n",
      "Iteration 65: Cost nan, Weight             nan,\n",
      "Iteration 66: Cost nan, Weight             nan,\n",
      "Iteration 67: Cost nan, Weight             nan,\n",
      "Iteration 68: Cost nan, Weight             nan,\n",
      "Iteration 69: Cost nan, Weight             nan,\n",
      "Iteration 70: Cost nan, Weight             nan,\n",
      "Iteration 71: Cost nan, Weight             nan,\n",
      "Iteration 72: Cost nan, Weight             nan,\n",
      "Iteration 73: Cost nan, Weight             nan,\n",
      "Iteration 74: Cost nan, Weight             nan,\n",
      "Iteration 75: Cost nan, Weight             nan,\n",
      "Iteration 76: Cost nan, Weight             nan,\n",
      "Iteration 77: Cost nan, Weight             nan,\n",
      "Iteration 78: Cost nan, Weight             nan,\n",
      "Iteration 79: Cost nan, Weight             nan,\n",
      "Iteration 80: Cost nan, Weight             nan,\n",
      "Iteration 81: Cost nan, Weight             nan,\n",
      "Iteration 82: Cost nan, Weight             nan,\n",
      "Iteration 83: Cost nan, Weight             nan,\n",
      "Iteration 84: Cost nan, Weight             nan,\n",
      "Iteration 85: Cost nan, Weight             nan,\n",
      "Iteration 86: Cost nan, Weight             nan,\n",
      "Iteration 87: Cost nan, Weight             nan,\n",
      "Iteration 88: Cost nan, Weight             nan,\n",
      "Iteration 89: Cost nan, Weight             nan,\n",
      "Iteration 90: Cost nan, Weight             nan,\n",
      "Iteration 91: Cost nan, Weight             nan,\n",
      "Iteration 92: Cost nan, Weight             nan,\n",
      "Iteration 93: Cost nan, Weight             nan,\n",
      "Iteration 94: Cost nan, Weight             nan,\n",
      "Iteration 95: Cost nan, Weight             nan,\n",
      "Iteration 96: Cost nan, Weight             nan,\n",
      "Iteration 97: Cost nan, Weight             nan,\n",
      "Iteration 98: Cost nan, Weight             nan,\n",
      "Iteration 99: Cost nan, Weight             nan,\n",
      "Iteration 100: Cost nan, Weight             nan,\n"
     ]
    },
    {
     "name": "stderr",
     "output_type": "stream",
     "text": [
      "<ipython-input-240-31873bc45128>:5: RuntimeWarning: overflow encountered in exp\n",
      "  cost = np.sum(np.log(1 + np.exp(-1*x*y*w)))\n",
      "<ipython-input-240-31873bc45128>:21: RuntimeWarning: overflow encountered in exp\n",
      "  weight_derivative = np.sum((-1 * x * y) * np.exp(-1 * x * y * current_weight)\n",
      "<ipython-input-240-31873bc45128>:22: RuntimeWarning: overflow encountered in exp\n",
      "  /(1 + np.exp(-1 * x * y * current_weight)) )\n",
      "<ipython-input-240-31873bc45128>:21: RuntimeWarning: invalid value encountered in true_divide\n",
      "  weight_derivative = np.sum((-1 * x * y) * np.exp(-1 * x * y * current_weight)\n"
     ]
    },
    {
     "data": {
      "image/png": "[encoded data removed]",
      "text/plain": [
       "<Figure size 576x432 with 1 Axes>"
      ]
     },
     "metadata": {
      "needs_background": "light"
     },
     "output_type": "display_data"
    },
    {
     "name": "stdout",
     "output_type": "stream",
     "text": [
      "The Final weight is: nan\n"
     ]
    }
   ],
   "source": [
    "import math\n",
    "x = [i for i in range(-50,51) ]\n",
    "x.remove(0)\n",
    "x = np.array(x)\n",
    "y = [-1 * math.copysign(1,i) if (i<-45 or i>44) else math.copysign(1,i) for i in range(-50,50)]\n",
    "y = np.array(y)\n",
    "final_weight = gradient_descent(x,y,iterations = 100,learning_rate=0.00001, print_iterations = True)\n",
    "print(\"The Final weight is:\",final_weight)"
   ]
  },
  {
   "cell_type": "code",
   "execution_count": null,
   "id": "a87fdf06",
   "metadata": {},
   "outputs": [],
   "source": []
  }
 ],
 "metadata": {
  "kernelspec": {
   "display_name": "Python 3",
   "language": "python",
   "name": "python3"
  },
  "language_info": {
   "codemirror_mode": {
    "name": "ipython",
    "version": 3
   },
   "file_extension": ".py",
   "mimetype": "text/x-python",
   "name": "python",
   "nbconvert_exporter": "python",
   "pygments_lexer": "ipython3",
   "version": "3.8.8"
  }
 },
 "nbformat": 4,
 "nbformat_minor": 5
}
