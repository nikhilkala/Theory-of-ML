{
 "cells": [
  {
   "cell_type": "markdown",
   "id": "3cb98019",
   "metadata": {},
   "source": [
    "### Assignment 2"
   ]
  },
  {
   "cell_type": "markdown",
   "id": "89cd2a3e",
   "metadata": {},
   "source": [
    "## Gradient Descent with cost_function customized for Problem 1\n",
    "The goal is to find w ∈Rd so as to minimize the objective:\n",
    "L(w) = ∑(xi,yi,w), where `(xi,yi,w) := log(1 + e−yi〈xi,w〉)."
   ]
  },
  {
   "cell_type": "code",
   "execution_count": 414,
   "id": "a698fa20",
   "metadata": {},
   "outputs": [],
   "source": [
    "#Helper functions\n",
    "import numpy as np\n",
    "import matplotlib.pyplot as plt\n",
    "import random\n",
    "import time\n",
    "\n",
    "def cost_function(x,y,w):\n",
    "    cost = np.sum(np.log(1 + np.exp(-1*x*y*w)))\n",
    "    return cost\n",
    " \n",
    "def gradient_descent(x, y, iterations = 100, learning_rate = 0.0001,\n",
    "                     print_iterations=False):\n",
    "     \n",
    "    current_weight = -1\n",
    "    iterations = iterations\n",
    "    learning_rate = learning_rate\n",
    "    costs = []\n",
    "    weights = []\n",
    "     \n",
    "    for i in range(iterations):\n",
    "        current_cost = cost_function(x, y, current_weight)\n",
    "        costs.append(current_cost)\n",
    "        weights.append(current_weight)\n",
    "        weight_derivative = np.sum((-1 * x * y) * np.exp(-1 * x * y * current_weight) \n",
    "                                   /(1 + np.exp(-1 * x * y * current_weight)) )\n",
    "        current_weight = current_weight - (learning_rate * weight_derivative)\n",
    "        if (print_iterations):\n",
    "            print(f\"Iteration {i+1}: Cost {current_cost}, Weight \\\n",
    "            {current_weight},\")\n",
    "     \n",
    "    plt.figure(figsize = (8,6))\n",
    "    plt.plot(weights, costs)\n",
    "    plt.scatter(weights, costs, marker='o', color='red')\n",
    "    plt.title(\"Cost vs Weights\")\n",
    "    plt.ylabel(\"Cost\")\n",
    "    plt.xlabel(\"Weight\")\n",
    "    plt.show()\n",
    "#     plt.savefig(\"Costweight.png\")\n",
    "     \n",
    "    return current_weight\n",
    "\n",
    "\n",
    "def gradient(current_weight, A, b, step_size, steps):\n",
    "    for i in range(steps):\n",
    "        weight_derivative = 2*np.dot(np.transpose(A), (np.subtract(Ax, b)))\n",
    "        current_weight += -step_size * weight_derivative\n",
    "    print(\"Function Value is\",np.sum(current_weight))\n",
    "    return current_weight\n",
    "\n",
    "\n",
    "def get_data():\n",
    "    N = 500\n",
    "    M = 1000\n",
    "    A = np.random.uniform(-1,1,(M,N))\n",
    "    X = np.random.uniform(-1,1,(N,1))\n",
    "    AX = np.dot(A,X)\n",
    "    n = np.random.normal(loc=0, scale =0.5, size=1000).reshape(M,1)\n",
    "    return A,X,n\n",
    "\n",
    "def gradient_method(A,X,n):\n",
    "    t1 = time.time()\n",
    "    AX = np.dot(A,X)\n",
    "    b = AX + n\n",
    "    x0 = [0]*len(X)\n",
    "    step_size = 0.1\n",
    "    steps = 50\n",
    "    distance = np.linalg.norm(X - gradient(x0, A, b, step_size, steps))\n",
    "    print(\"Total Distance for gradient method:\",distance)\n",
    "    t2 = time.time()\n",
    "    print(\"Time for gradient method\",t2-t1)\n",
    "    return t2-t1\n",
    "\n",
    "def numerical_method(A,X,n):\n",
    "    t1 = time.time()\n",
    "    step_size = 0.1\n",
    "    steps = 50\n",
    "    AX = np.dot(A,X)\n",
    "    b = AX + n\n",
    "    val = np.linalg.inv(np.dot(A.transpose(),A))\n",
    "    val = np.dot(val,A.transpose())\n",
    "    x = np.dot(val,b)\n",
    "#     print(x_star.shape)\n",
    "    distance = np.linalg.norm(X - x)\n",
    "    print(\"Total Distance for numerical method:\",distance)\n",
    "    t2 = time.time()\n",
    "    print(\"Time for numerical method\",t2-t1)\n",
    "    return t2-t1\n",
    "\n",
    "def grad(x,var):\n",
    "    val =0\n",
    "    for i in range(200):\n",
    "        val+=(x-var)\n",
    "    return val/200\n",
    "  \n",
    "def learning(method,i):\n",
    "    if method =='constant':\n",
    "        return 0.1\n",
    "    elif method == 'inverse':\n",
    "        return 0.1/(i+1)\n",
    "    elif method =='root':\n",
    "        return 0.1/math.sqrt(i+1)\n",
    "    \n",
    "def s_grad(x,y,method):\n",
    "    for i in range(1,201):\n",
    "        a = i/200 if i<=100 else (i-100)/200\n",
    "        b = -1 if i<=100 else 1\n",
    "        x-= learning(method,i)*grad(x,a)\n",
    "        y-= learning(method,i)*grad(y,b)\n",
    "        return y"
   ]
  },
  {
   "cell_type": "markdown",
   "id": "50da334f",
   "metadata": {},
   "source": [
    "### 1.C - Well separable\n",
    "#### Note: set print_iterations to True to see the logs for all iterations"
   ]
  },
  {
   "cell_type": "code",
   "execution_count": 382,
   "id": "009319ae",
   "metadata": {},
   "outputs": [
    {
     "data": {
      "image/png": "[encoded data removed]",
      "text/plain": [
       "<Figure size 576x432 with 1 Axes>"
      ]
     },
     "metadata": {
      "needs_background": "light"
     },
     "output_type": "display_data"
    },
    {
     "name": "stdout",
     "output_type": "stream",
     "text": [
      "The Final weight is: 0.13814692128425568\n"
     ]
    }
   ],
   "source": [
    "import math\n",
    "x = [i for i in range(-50,51) ]\n",
    "x.remove(0)\n",
    "x = np.array(x)\n",
    "y = [math.copysign(1,i) for i in range(-50,50)]\n",
    "y = np.array(y)\n",
    "final_weight = gradient_descent(x,y,iterations = 100,learning_rate=0.00001, print_iterations = False)\n",
    "print(\"The Final weight is:\",final_weight)"
   ]
  },
  {
   "cell_type": "markdown",
   "id": "ea0b64fc",
   "metadata": {},
   "source": [
    "### 1.D - Well separable with 10% corruption\n",
    "#### Note: set print_iterations to True to see the logs for all iterations"
   ]
  },
  {
   "cell_type": "code",
   "execution_count": 383,
   "id": "978b68cd",
   "metadata": {
    "scrolled": true
   },
   "outputs": [
    {
     "data": {
      "image/png": "[encoded data removed]",
      "text/plain": [
       "<Figure size 576x432 with 1 Axes>"
      ]
     },
     "metadata": {
      "needs_background": "light"
     },
     "output_type": "display_data"
    },
    {
     "name": "stdout",
     "output_type": "stream",
     "text": [
      "The Final weight is: 0.04606552537638559\n"
     ]
    }
   ],
   "source": [
    "import math\n",
    "x = [i for i in range(-50,51) ]\n",
    "x.remove(0)\n",
    "x = np.array(x)\n",
    "y = [-1 * math.copysign(1,i) if (i<-45 or i>44) else math.copysign(1,i) for i in range(-50,50)]\n",
    "y = np.array(y)\n",
    "final_weight = gradient_descent(x,y,iterations = 100,learning_rate=0.00001, print_iterations = False)\n",
    "print(\"The Final weight is:\",final_weight)"
   ]
  },
  {
   "cell_type": "markdown",
   "id": "a472017f",
   "metadata": {},
   "source": [
    "### 3.C - Generate Data"
   ]
  },
  {
   "cell_type": "code",
   "execution_count": 393,
   "id": "445e2dcf",
   "metadata": {
    "scrolled": true
   },
   "outputs": [
    {
     "name": "stdout",
     "output_type": "stream",
     "text": [
      "Shape of A(range of values [-1,1]): (1000, 500)\n",
      "Shape of X*(range of values [-1,1]): (500, 1)\n",
      "Shape of n is shape of AX: (1000, 1)\n"
     ]
    }
   ],
   "source": [
    "A,X,n = get_data()\n",
    "print(\"Shape of A(range of values [-1,1]):\" , A.shape)\n",
    "print(\"Shape of X*(range of values [-1,1]):\" , X.shape)\n",
    "print(\"Shape of n is shape of AX:\" , n.shape)"
   ]
  },
  {
   "cell_type": "markdown",
   "id": "c84eb57a",
   "metadata": {},
   "source": [
    "### 3.D - Gradient Method"
   ]
  },
  {
   "cell_type": "code",
   "execution_count": 394,
   "id": "41801492",
   "metadata": {},
   "outputs": [
    {
     "name": "stdout",
     "output_type": "stream",
     "text": [
      "Step size = 1/10 and steps = 50\n",
      "Function Value is -976487.9095806517\n",
      "Total Distance for gradient method: 1417672.9509089072\n",
      "Time for gradient method 0.03608393669128418\n"
     ]
    }
   ],
   "source": [
    "print(\"Step size = 1/10 and steps = 50\")\n",
    "time_grad = gradient_method(A,X,n)"
   ]
  },
  {
   "cell_type": "markdown",
   "id": "631c11c8",
   "metadata": {},
   "source": [
    "### 3.E - Numerical Method"
   ]
  },
  {
   "cell_type": "code",
   "execution_count": 395,
   "id": "4b402340",
   "metadata": {},
   "outputs": [
    {
     "name": "stdout",
     "output_type": "stream",
     "text": [
      "Total Distance for numerical method: 0.8830245762884811\n",
      "Time for numerical method 0.03486299514770508\n",
      "Difference in time is: 0.0012209415435791016\n",
      "Ratio of time of numerical to gradient is: 0.9661638486392198\n"
     ]
    }
   ],
   "source": [
    "time_numerical = numerical_method(A,X,n)\n",
    "print(\"Difference in time is:\",abs(time_numerical-time_grad))\n",
    "print(\"Ratio of time of numerical to gradient is:\",time_numerical/time_grad)"
   ]
  },
  {
   "cell_type": "markdown",
   "id": "688ae05c",
   "metadata": {},
   "source": [
    "### On various runs, gradient method is taking more time this is because internal libraries are optimised and gradient method has randomness associated with it."
   ]
  },
  {
   "cell_type": "markdown",
   "id": "05782c47",
   "metadata": {},
   "source": [
    "### 4.C - SGD"
   ]
  },
  {
   "cell_type": "code",
   "execution_count": 419,
   "id": "f386043e",
   "metadata": {},
   "outputs": [
    {
     "name": "stdout",
     "output_type": "stream",
     "text": [
      "Value of y after 200 steps: 0.8\n"
     ]
    }
   ],
   "source": [
    "print(\"Value of y after 200 steps:\",s_grad(1,1,'constant'))"
   ]
  },
  {
   "cell_type": "code",
   "execution_count": 420,
   "id": "faef6110",
   "metadata": {},
   "outputs": [
    {
     "name": "stdout",
     "output_type": "stream",
     "text": [
      "Value of y after 200 steps: 0.9\n"
     ]
    }
   ],
   "source": [
    "print(\"Value of y after 200 steps:\",s_grad(1,1,'inverse'))"
   ]
  },
  {
   "cell_type": "code",
   "execution_count": 421,
   "id": "3805eb15",
   "metadata": {},
   "outputs": [
    {
     "name": "stdout",
     "output_type": "stream",
     "text": [
      "Value of y after 200 steps: 0.8585786437626906\n"
     ]
    }
   ],
   "source": [
    "print(\"Value of y after 200 steps:\",s_grad(1,1,'root'))"
   ]
  }
 ],
 "metadata": {
  "kernelspec": {
   "display_name": "Python 3",
   "language": "python",
   "name": "python3"
  },
  "language_info": {
   "codemirror_mode": {
    "name": "ipython",
    "version": 3
   },
   "file_extension": ".py",
   "mimetype": "text/x-python",
   "name": "python",
   "nbconvert_exporter": "python",
   "pygments_lexer": "ipython3",
   "version": "3.8.8"
  }
 },
 "nbformat": 4,
 "nbformat_minor": 5
}
